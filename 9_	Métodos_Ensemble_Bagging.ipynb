{
  "nbformat": 4,
  "nbformat_minor": 0,
  "metadata": {
    "colab": {
      "provenance": [],
      "authorship_tag": "ABX9TyOOEtrzuNamiPOcoETabxvx",
      "include_colab_link": true
    },
    "kernelspec": {
      "name": "python3",
      "display_name": "Python 3"
    },
    "language_info": {
      "name": "python"
    }
  },
  "cells": [
    {
      "cell_type": "markdown",
      "metadata": {
        "id": "view-in-github",
        "colab_type": "text"
      },
      "source": [
        "<a href=\"https://colab.research.google.com/github/biaraujof99/Machine-Learning-/blob/main/9_%09M%C3%A9todos_Ensemble_Bagging.ipynb\" target=\"_parent\"><img src=\"https://colab.research.google.com/assets/colab-badge.svg\" alt=\"Open In Colab\"/></a>"
      ]
    },
    {
      "cell_type": "code",
      "execution_count": 1,
      "metadata": {
        "id": "Qumj3pjnkFR9"
      },
      "outputs": [],
      "source": [
        "import numpy as np\n",
        "import pandas as pd\n",
        "from sklearn.datasets import load_iris\n",
        "from sklearn.model_selection import train_test_split\n",
        "from sklearn.tree import DecisionTreeClassifier\n",
        "from sklearn.metrics import accuracy_score"
      ]
    },
    {
      "cell_type": "code",
      "source": [
        "# Carregar o conjunto de dados Iris\n",
        "iris = load_iris()\n",
        "X = iris.data\n",
        "y = iris.target\n",
        "\n",
        "# Dividir os dados em conjunto de treino e teste\n",
        "X_train, X_test, y_train, y_test = train_test_split(X, y, test_size=0.2, random_state=42)"
      ],
      "metadata": {
        "id": "gKQNCTOOkNRq"
      },
      "execution_count": 2,
      "outputs": []
    },
    {
      "cell_type": "code",
      "source": [
        "class Bagging:\n",
        "    def __init__(self, base_estimator, n_estimators=10):\n",
        "        self.base_estimator = base_estimator\n",
        "        self.n_estimators = n_estimators\n",
        "        self.models = []\n",
        "\n",
        "    def fit(self, X, y):\n",
        "        n_samples = X.shape[0]\n",
        "        for _ in range(self.n_estimators):\n",
        "            # Amostragem com reposição\n",
        "            indices = np.random.choice(n_samples, n_samples, replace=True)\n",
        "            X_sample = X[indices]\n",
        "            y_sample = y[indices]\n",
        "\n",
        "            # Treinar a árvore de decisão\n",
        "            model = self.base_estimator()\n",
        "            model.fit(X_sample, y_sample)\n",
        "            self.models.append(model)\n",
        "\n",
        "    def predict(self, X):\n",
        "        # Previsões de cada modelo\n",
        "        predictions = np.array([model.predict(X) for model in self.models])\n",
        "        # Votação para decidir a classe final\n",
        "        return [np.bincount(pred).argmax() for pred in predictions.T]"
      ],
      "metadata": {
        "id": "XFeKUbwBk325"
      },
      "execution_count": 3,
      "outputs": []
    },
    {
      "cell_type": "code",
      "source": [
        "# Criar e treinar uma única árvore de decisão\n",
        "single_tree = DecisionTreeClassifier(random_state=42)\n",
        "single_tree.fit(X_train, y_train)\n",
        "\n",
        "# Fazer previsões e avaliar a acurácia da árvore de decisão\n",
        "tree_predictions = single_tree.predict(X_test)\n",
        "tree_accuracy = accuracy_score(y_test, tree_predictions)\n",
        "\n",
        "# Criar e treinar o modelo de Bagging\n",
        "bagging_model = Bagging(base_estimator=DecisionTreeClassifier, n_estimators=10)\n",
        "bagging_model.fit(X_train, y_train)\n",
        "\n",
        "# Fazer previsões e avaliar a acurácia do modelo de Bagging\n",
        "bagging_predictions = bagging_model.predict(X_test)\n",
        "bagging_accuracy = accuracy_score(y_test, bagging_predictions)"
      ],
      "metadata": {
        "id": "1HvtcDjOk6nu"
      },
      "execution_count": 4,
      "outputs": []
    },
    {
      "cell_type": "code",
      "source": [
        "print(f\"Acurácia da Árvore de Decisão: {tree_accuracy:.2f}\")\n",
        "print(f\"Acurácia do Modelo Bagging: {bagging_accuracy:.2f}\")"
      ],
      "metadata": {
        "id": "lETnS9FIk7uo",
        "outputId": "51ad8836-78a3-43df-f78b-490b2a0f4e1c",
        "colab": {
          "base_uri": "https://localhost:8080/"
        }
      },
      "execution_count": 5,
      "outputs": [
        {
          "output_type": "stream",
          "name": "stdout",
          "text": [
            "Acurácia da Árvore de Decisão: 1.00\n",
            "Acurácia do Modelo Bagging: 1.00\n"
          ]
        }
      ]
    }
  ]
}