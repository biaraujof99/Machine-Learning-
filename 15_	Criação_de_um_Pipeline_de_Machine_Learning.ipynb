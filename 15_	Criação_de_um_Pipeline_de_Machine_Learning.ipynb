{
  "nbformat": 4,
  "nbformat_minor": 0,
  "metadata": {
    "colab": {
      "provenance": [],
      "authorship_tag": "ABX9TyPU++47ai+gt4DOY5Regary",
      "include_colab_link": true
    },
    "kernelspec": {
      "name": "python3",
      "display_name": "Python 3"
    },
    "language_info": {
      "name": "python"
    }
  },
  "cells": [
    {
      "cell_type": "markdown",
      "metadata": {
        "id": "view-in-github",
        "colab_type": "text"
      },
      "source": [
        "<a href=\"https://colab.research.google.com/github/biaraujof99/Machine-Learning-/blob/main/15_%09Cria%C3%A7%C3%A3o_de_um_Pipeline_de_Machine_Learning.ipynb\" target=\"_parent\"><img src=\"https://colab.research.google.com/assets/colab-badge.svg\" alt=\"Open In Colab\"/></a>"
      ]
    },
    {
      "cell_type": "code",
      "execution_count": 1,
      "metadata": {
        "id": "7cQ02fhPpBuZ"
      },
      "outputs": [],
      "source": [
        "import numpy as np\n",
        "import pandas as pd\n",
        "from sklearn.datasets import load_iris\n",
        "from sklearn.model_selection import train_test_split, cross_val_score\n",
        "from sklearn.pipeline import Pipeline\n",
        "from sklearn.preprocessing import StandardScaler\n",
        "from sklearn.decomposition import PCA\n",
        "from sklearn.ensemble import RandomForestClassifier"
      ]
    },
    {
      "cell_type": "code",
      "source": [
        "# Carregar o conjunto de dados Iris\n",
        "iris = load_iris()\n",
        "X = iris.data\n",
        "y = iris.target\n",
        "\n",
        "# Dividir os dados em conjunto de treino e teste (opcional, mas podemos usar só o treino para CV)\n",
        "X_train, X_test, y_train, y_test = train_test_split(X, y, test_size=0.2, random_state=42)"
      ],
      "metadata": {
        "id": "24y2LAdApxel"
      },
      "execution_count": 2,
      "outputs": []
    },
    {
      "cell_type": "code",
      "source": [
        "# Criar o pipeline\n",
        "pipeline = Pipeline([\n",
        "    ('scaler', StandardScaler()),          # Pré-processamento: Escalonamento\n",
        "    ('pca', PCA(n_components=2)),         # PCA: Redução de dimensionalidade\n",
        "    ('classifier', RandomForestClassifier(random_state=42))  # Classificador\n",
        "])"
      ],
      "metadata": {
        "id": "cDXkO7wvp0Qy"
      },
      "execution_count": 3,
      "outputs": []
    },
    {
      "cell_type": "code",
      "source": [
        "# Avaliar a performance usando validação cruzada\n",
        "cv_scores = cross_val_score(pipeline, X_train, y_train, cv=5)  # 5-fold cross-validation\n",
        "\n",
        "# Exibir os resultados\n",
        "print(f\"Acurácias da validação cruzada: {cv_scores}\")\n",
        "print(f\"Média da acurácia: {np.mean(cv_scores):.2f} ± {np.std(cv_scores):.2f}\")"
      ],
      "metadata": {
        "id": "pvr5ALxLp1a_",
        "outputId": "b5f78982-2337-40b1-ba87-0f2e81e219fb",
        "colab": {
          "base_uri": "https://localhost:8080/"
        }
      },
      "execution_count": 4,
      "outputs": [
        {
          "output_type": "stream",
          "name": "stdout",
          "text": [
            "Acurácias da validação cruzada: [0.95833333 0.91666667 0.875      0.875      0.83333333]\n",
            "Média da acurácia: 0.89 ± 0.04\n"
          ]
        }
      ]
    }
  ]
}