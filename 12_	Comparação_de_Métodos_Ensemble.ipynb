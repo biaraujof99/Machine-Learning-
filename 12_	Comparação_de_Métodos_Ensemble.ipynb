{
  "nbformat": 4,
  "nbformat_minor": 0,
  "metadata": {
    "colab": {
      "provenance": [],
      "authorship_tag": "ABX9TyMQzD4q6SfIXV7Dv+uGu8Ds",
      "include_colab_link": true
    },
    "kernelspec": {
      "name": "python3",
      "display_name": "Python 3"
    },
    "language_info": {
      "name": "python"
    }
  },
  "cells": [
    {
      "cell_type": "markdown",
      "metadata": {
        "id": "view-in-github",
        "colab_type": "text"
      },
      "source": [
        "<a href=\"https://colab.research.google.com/github/biaraujof99/Machine-Learning-/blob/main/12_%09Compara%C3%A7%C3%A3o_de_M%C3%A9todos_Ensemble.ipynb\" target=\"_parent\"><img src=\"https://colab.research.google.com/assets/colab-badge.svg\" alt=\"Open In Colab\"/></a>"
      ]
    },
    {
      "cell_type": "code",
      "execution_count": 1,
      "metadata": {
        "id": "5yvwy2FxnFht"
      },
      "outputs": [],
      "source": [
        "import numpy as np\n",
        "import pandas as pd\n",
        "import matplotlib.pyplot as plt\n",
        "from sklearn.datasets import load_iris\n",
        "from sklearn.model_selection import train_test_split, learning_curve\n",
        "from sklearn.tree import DecisionTreeClassifier\n",
        "from sklearn.ensemble import RandomForestClassifier, AdaBoostClassifier\n",
        "from sklearn.metrics import accuracy_score"
      ]
    },
    {
      "cell_type": "code",
      "source": [
        "# Carregar o conjunto de dados Iris\n",
        "iris = load_iris()\n",
        "X = iris.data\n",
        "y = iris.target\n",
        "\n",
        "# Dividir os dados em conjunto de treino e teste\n",
        "X_train, X_test, y_train, y_test = train_test_split(X, y, test_size=0.2, random_state=42)"
      ],
      "metadata": {
        "id": "f8APE-XinuZv"
      },
      "execution_count": 2,
      "outputs": []
    },
    {
      "cell_type": "code",
      "source": [
        "def evaluate_model(model, X_train, y_train, X_test, y_test):\n",
        "    model.fit(X_train, y_train)\n",
        "    train_preds = model.predict(X_train)\n",
        "    test_preds = model.predict(X_test)\n",
        "\n",
        "    train_accuracy = accuracy_score(y_train, train_preds)\n",
        "    test_accuracy = accuracy_score(y_test, test_preds)\n",
        "\n",
        "    return train_accuracy, test_accuracy\n",
        "Inicializar os modelos\n",
        "python\n",
        "Copiar código\n",
        "# Modelos de ensemble\n",
        "bagging_model = DecisionTreeClassifier(random_state=42)\n",
        "boosting_model = AdaBoostClassifier(base_estimator=DecisionTreeClassifier(), n_estimators=50, random_state=42)\n",
        "random_forest_model = RandomForestClassifier(n_estimators=100, random_state=42)\n",
        "\n",
        "# Avaliar os modelos\n",
        "bagging_train_acc, bagging_test_acc = evaluate_model(bagging_model, X_train, y_train, X_test, y_test)\n",
        "boosting_train_acc, boosting_test_acc = evaluate_model(boosting_model, X_train, y_train, X_test, y_test)\n",
        "random_forest_train_acc, random_forest_test_acc = evaluate_model(random_forest_model, X_train, y_train, X_test, y_test)\n",
        "4. Avaliar o desempenho e gerar curvas de aprendizado\n",
        "python\n",
        "Copiar código\n",
        "# Função para gerar curvas de aprendizado\n",
        "def plot_learning_curve(model, X, y, title):\n",
        "    train_sizes, train_scores, test_scores = learning_curve(model, X, y, cv=5, n_jobs=-1,\n",
        "                                                            train_sizes=np.linspace(0.1, 1.0, 10),\n",
        "                                                            scoring='accuracy')\n",
        "\n",
        "    train_scores_mean = np.mean(train_scores, axis=1)\n",
        "    test_scores_mean = np.mean(test_scores, axis=1)\n",
        "\n",
        "    plt.plot(train_sizes, train_scores_mean, label='Acurácia Treino')\n",
        "    plt.plot(train_sizes, test_scores_mean, label='Acurácia Teste')\n",
        "    plt.title(title)\n",
        "    plt.xlabel('Tamanho do Conjunto de Treinamento')\n",
        "    plt.ylabel('Acurácia')\n",
        "    plt.legend()\n",
        "    plt.grid()"
      ],
      "metadata": {
        "colab": {
          "base_uri": "https://localhost:8080/",
          "height": 106
        },
        "id": "HGZn5Wnlnxk0",
        "outputId": "56491c77-4779-4b23-b178-3f74af724fd7"
      },
      "execution_count": 3,
      "outputs": [
        {
          "output_type": "error",
          "ename": "SyntaxError",
          "evalue": "invalid syntax (<ipython-input-3-5c3f98b03321>, line 10)",
          "traceback": [
            "\u001b[0;36m  File \u001b[0;32m\"<ipython-input-3-5c3f98b03321>\"\u001b[0;36m, line \u001b[0;32m10\u001b[0m\n\u001b[0;31m    Inicializar os modelos\u001b[0m\n\u001b[0m                ^\u001b[0m\n\u001b[0;31mSyntaxError\u001b[0m\u001b[0;31m:\u001b[0m invalid syntax\n"
          ]
        }
      ]
    },
    {
      "cell_type": "code",
      "source": [
        "plt.figure(figsize=(18, 5))\n",
        "\n",
        "plt.subplot(1, 3, 1)\n",
        "plot_learning_curve(bagging_model, X, y, 'Curva de Aprendizado - Bagging')\n",
        "\n",
        "plt.subplot(1, 3, 2)\n",
        "plot_learning_curve(boosting_model, X, y, 'Curva de Aprendizado - Boosting (AdaBoost)')\n",
        "\n",
        "plt.subplot(1, 3, 3)\n",
        "plot_learning_curve(random_forest_model, X, y, 'Curva de Aprendizado - Random Forest')\n",
        "\n",
        "plt.tight_layout()\n",
        "plt.show()"
      ],
      "metadata": {
        "colab": {
          "base_uri": "https://localhost:8080/",
          "height": 645
        },
        "id": "0bXbnBZanzMr",
        "outputId": "3912f1ca-327e-41c0-96c2-a26e0a2113f3"
      },
      "execution_count": 4,
      "outputs": [
        {
          "output_type": "error",
          "ename": "NameError",
          "evalue": "name 'plot_learning_curve' is not defined",
          "traceback": [
            "\u001b[0;31m---------------------------------------------------------------------------\u001b[0m",
            "\u001b[0;31mNameError\u001b[0m                                 Traceback (most recent call last)",
            "\u001b[0;32m<ipython-input-4-86bcfde04672>\u001b[0m in \u001b[0;36m<cell line: 4>\u001b[0;34m()\u001b[0m\n\u001b[1;32m      2\u001b[0m \u001b[0;34m\u001b[0m\u001b[0m\n\u001b[1;32m      3\u001b[0m \u001b[0mplt\u001b[0m\u001b[0;34m.\u001b[0m\u001b[0msubplot\u001b[0m\u001b[0;34m(\u001b[0m\u001b[0;36m1\u001b[0m\u001b[0;34m,\u001b[0m \u001b[0;36m3\u001b[0m\u001b[0;34m,\u001b[0m \u001b[0;36m1\u001b[0m\u001b[0;34m)\u001b[0m\u001b[0;34m\u001b[0m\u001b[0;34m\u001b[0m\u001b[0m\n\u001b[0;32m----> 4\u001b[0;31m \u001b[0mplot_learning_curve\u001b[0m\u001b[0;34m(\u001b[0m\u001b[0mbagging_model\u001b[0m\u001b[0;34m,\u001b[0m \u001b[0mX\u001b[0m\u001b[0;34m,\u001b[0m \u001b[0my\u001b[0m\u001b[0;34m,\u001b[0m \u001b[0;34m'Curva de Aprendizado - Bagging'\u001b[0m\u001b[0;34m)\u001b[0m\u001b[0;34m\u001b[0m\u001b[0;34m\u001b[0m\u001b[0m\n\u001b[0m\u001b[1;32m      5\u001b[0m \u001b[0;34m\u001b[0m\u001b[0m\n\u001b[1;32m      6\u001b[0m \u001b[0mplt\u001b[0m\u001b[0;34m.\u001b[0m\u001b[0msubplot\u001b[0m\u001b[0;34m(\u001b[0m\u001b[0;36m1\u001b[0m\u001b[0;34m,\u001b[0m \u001b[0;36m3\u001b[0m\u001b[0;34m,\u001b[0m \u001b[0;36m2\u001b[0m\u001b[0;34m)\u001b[0m\u001b[0;34m\u001b[0m\u001b[0;34m\u001b[0m\u001b[0m\n",
            "\u001b[0;31mNameError\u001b[0m: name 'plot_learning_curve' is not defined"
          ]
        },
        {
          "output_type": "display_data",
          "data": {
            "text/plain": [
              "<Figure size 1800x500 with 1 Axes>"
            ],
            "image/png": "[encoded data removed]"
          },
          "metadata": {}
        }
      ]
    },
    {
      "cell_type": "code",
      "source": [
        "# Impressão das acurácias\n",
        "print(f\"Acurácia do Bagging (Treino): {bagging_train_acc:.2f}, (Teste): {bagging_test_acc:.2f}\")\n",
        "print(f\"Acurácia do Boosting (Treino): {boosting_train_acc:.2f}, (Teste): {boosting_test_acc:.2f}\")\n",
        "print(f\"Acurácia do Random Forest (Treino): {random_forest_train_acc:.2f}, (Teste): {random_forest_test_acc:.2f}\")"
      ],
      "metadata": {
        "id": "-fdyRYGwn1j4",
        "outputId": "ccb9afe0-3bf8-4b4d-bf42-d4bcab166d6e",
        "colab": {
          "base_uri": "https://localhost:8080/",
          "height": 193
        }
      },
      "execution_count": 5,
      "outputs": [
        {
          "output_type": "error",
          "ename": "NameError",
          "evalue": "name 'bagging_train_acc' is not defined",
          "traceback": [
            "\u001b[0;31m---------------------------------------------------------------------------\u001b[0m",
            "\u001b[0;31mNameError\u001b[0m                                 Traceback (most recent call last)",
            "\u001b[0;32m<ipython-input-5-2d392575bd0b>\u001b[0m in \u001b[0;36m<cell line: 2>\u001b[0;34m()\u001b[0m\n\u001b[1;32m      1\u001b[0m \u001b[0;31m# Impressão das acurácias\u001b[0m\u001b[0;34m\u001b[0m\u001b[0;34m\u001b[0m\u001b[0m\n\u001b[0;32m----> 2\u001b[0;31m \u001b[0mprint\u001b[0m\u001b[0;34m(\u001b[0m\u001b[0;34mf\"Acurácia do Bagging (Treino): {bagging_train_acc:.2f}, (Teste): {bagging_test_acc:.2f}\"\u001b[0m\u001b[0;34m)\u001b[0m\u001b[0;34m\u001b[0m\u001b[0;34m\u001b[0m\u001b[0m\n\u001b[0m\u001b[1;32m      3\u001b[0m \u001b[0mprint\u001b[0m\u001b[0;34m(\u001b[0m\u001b[0;34mf\"Acurácia do Boosting (Treino): {boosting_train_acc:.2f}, (Teste): {boosting_test_acc:.2f}\"\u001b[0m\u001b[0;34m)\u001b[0m\u001b[0;34m\u001b[0m\u001b[0;34m\u001b[0m\u001b[0m\n\u001b[1;32m      4\u001b[0m \u001b[0mprint\u001b[0m\u001b[0;34m(\u001b[0m\u001b[0;34mf\"Acurácia do Random Forest (Treino): {random_forest_train_acc:.2f}, (Teste): {random_forest_test_acc:.2f}\"\u001b[0m\u001b[0;34m)\u001b[0m\u001b[0;34m\u001b[0m\u001b[0;34m\u001b[0m\u001b[0m\n",
            "\u001b[0;31mNameError\u001b[0m: name 'bagging_train_acc' is not defined"
          ]
        }
      ]
    }
  ]
}